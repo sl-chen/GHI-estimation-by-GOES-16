{
 "cells": [
  {
   "cell_type": "markdown",
   "metadata": {},
   "source": [
    "Comparison of bands c1, c2 and c3 for GHI estimation at DRA using S4+M3"
   ]
  },
  {
   "cell_type": "code",
   "execution_count": 1,
   "metadata": {},
   "outputs": [],
   "source": [
    "import pandas as pd\n",
    "import numpy as np\n",
    "import matplotlib.pyplot as plt\n",
    "import datetime\n",
    "from sklearn import metrics\n",
    "plt.rcParams[\"font.family\"] = \"Times New Roman\"\n",
    "\n",
    "import warnings\n",
    "warnings.filterwarnings(\"ignore\")"
   ]
  },
  {
   "cell_type": "code",
   "execution_count": 2,
   "metadata": {},
   "outputs": [],
   "source": [
    "def ci_to_csi3(x):\n",
    "    \n",
    "    csi_3 = []\n",
    "    for i in x:\n",
    "        if i < -0.2:\n",
    "            csi_3.append(1.2)\n",
    "        if i >= -0.2 and i < 0.8:\n",
    "            csi_3.append(1-i)\n",
    "        if i >= 0.8 and i < 1.1:\n",
    "            csi = 2.0667 - 3.6667*i + 1.6667*i*i\n",
    "            csi_3.append(csi)\n",
    "        if i >= 1.1:\n",
    "            csi_3.append(0.05)\n",
    "            \n",
    "    return csi_3"
   ]
  },
  {
   "cell_type": "code",
   "execution_count": 3,
   "metadata": {},
   "outputs": [
    {
     "data": {
      "text/html": [
       "<div>\n",
       "<style scoped>\n",
       "    .dataframe tbody tr th:only-of-type {\n",
       "        vertical-align: middle;\n",
       "    }\n",
       "\n",
       "    .dataframe tbody tr th {\n",
       "        vertical-align: top;\n",
       "    }\n",
       "\n",
       "    .dataframe thead th {\n",
       "        text-align: right;\n",
       "    }\n",
       "</style>\n",
       "<table border=\"1\" class=\"dataframe\">\n",
       "  <thead>\n",
       "    <tr style=\"text-align: right;\">\n",
       "      <th></th>\n",
       "      <th>ci</th>\n",
       "      <th>high</th>\n",
       "      <th>low</th>\n",
       "      <th>csi</th>\n",
       "    </tr>\n",
       "    <tr>\n",
       "      <th>time</th>\n",
       "      <th></th>\n",
       "      <th></th>\n",
       "      <th></th>\n",
       "      <th></th>\n",
       "    </tr>\n",
       "  </thead>\n",
       "  <tbody>\n",
       "    <tr>\n",
       "      <th>2019-01-01 16:05:00</th>\n",
       "      <td>0.007861</td>\n",
       "      <td>543.537684</td>\n",
       "      <td>243.298115</td>\n",
       "      <td>0.992139</td>\n",
       "    </tr>\n",
       "    <tr>\n",
       "      <th>2019-01-01 16:10:00</th>\n",
       "      <td>0.073763</td>\n",
       "      <td>543.537684</td>\n",
       "      <td>220.883821</td>\n",
       "      <td>0.926237</td>\n",
       "    </tr>\n",
       "    <tr>\n",
       "      <th>2019-01-01 16:15:00</th>\n",
       "      <td>0.019996</td>\n",
       "      <td>543.537684</td>\n",
       "      <td>237.920832</td>\n",
       "      <td>0.980004</td>\n",
       "    </tr>\n",
       "    <tr>\n",
       "      <th>2019-01-01 16:20:00</th>\n",
       "      <td>0.005287</td>\n",
       "      <td>543.537684</td>\n",
       "      <td>242.065771</td>\n",
       "      <td>0.994713</td>\n",
       "    </tr>\n",
       "    <tr>\n",
       "      <th>2019-01-01 16:25:00</th>\n",
       "      <td>0.017061</td>\n",
       "      <td>543.537684</td>\n",
       "      <td>238.324334</td>\n",
       "      <td>0.982939</td>\n",
       "    </tr>\n",
       "  </tbody>\n",
       "</table>\n",
       "</div>"
      ],
      "text/plain": [
       "                           ci        high         low       csi\n",
       "time                                                           \n",
       "2019-01-01 16:05:00  0.007861  543.537684  243.298115  0.992139\n",
       "2019-01-01 16:10:00  0.073763  543.537684  220.883821  0.926237\n",
       "2019-01-01 16:15:00  0.019996  543.537684  237.920832  0.980004\n",
       "2019-01-01 16:20:00  0.005287  543.537684  242.065771  0.994713\n",
       "2019-01-01 16:25:00  0.017061  543.537684  238.324334  0.982939"
      ]
     },
     "execution_count": 3,
     "metadata": {},
     "output_type": "execute_result"
    }
   ],
   "source": [
    "df_1m = pd.read_csv('c01_ci_month.csv')\n",
    "df_1m['time'] = pd.to_datetime(df_1m['time'])\n",
    "df_1m = df_1m.dropna()\n",
    "df_1m = df_1m.set_index('time')\n",
    "df_1m = df_1m.drop(columns=['time.1'])\n",
    "csi = ci_to_csi3(list(df_1m['ci'].values))\n",
    "df_1m['csi'] = csi\n",
    "df_1m.head()"
   ]
  },
  {
   "cell_type": "code",
   "execution_count": 4,
   "metadata": {},
   "outputs": [
    {
     "data": {
      "text/html": [
       "<div>\n",
       "<style scoped>\n",
       "    .dataframe tbody tr th:only-of-type {\n",
       "        vertical-align: middle;\n",
       "    }\n",
       "\n",
       "    .dataframe tbody tr th {\n",
       "        vertical-align: top;\n",
       "    }\n",
       "\n",
       "    .dataframe thead th {\n",
       "        text-align: right;\n",
       "    }\n",
       "</style>\n",
       "<table border=\"1\" class=\"dataframe\">\n",
       "  <thead>\n",
       "    <tr style=\"text-align: right;\">\n",
       "      <th></th>\n",
       "      <th>ci</th>\n",
       "      <th>high</th>\n",
       "      <th>low</th>\n",
       "      <th>csi</th>\n",
       "    </tr>\n",
       "    <tr>\n",
       "      <th>time</th>\n",
       "      <th></th>\n",
       "      <th></th>\n",
       "      <th></th>\n",
       "      <th></th>\n",
       "    </tr>\n",
       "  </thead>\n",
       "  <tbody>\n",
       "    <tr>\n",
       "      <th>2019-01-01 16:05:00</th>\n",
       "      <td>0.013135</td>\n",
       "      <td>415.861379</td>\n",
       "      <td>128.799757</td>\n",
       "      <td>0.986865</td>\n",
       "    </tr>\n",
       "    <tr>\n",
       "      <th>2019-01-01 16:10:00</th>\n",
       "      <td>0.067965</td>\n",
       "      <td>415.861379</td>\n",
       "      <td>115.346744</td>\n",
       "      <td>0.932035</td>\n",
       "    </tr>\n",
       "    <tr>\n",
       "      <th>2019-01-01 16:15:00</th>\n",
       "      <td>0.013846</td>\n",
       "      <td>415.861379</td>\n",
       "      <td>137.513389</td>\n",
       "      <td>0.986154</td>\n",
       "    </tr>\n",
       "    <tr>\n",
       "      <th>2019-01-01 16:20:00</th>\n",
       "      <td>-0.009069</td>\n",
       "      <td>415.861379</td>\n",
       "      <td>145.143145</td>\n",
       "      <td>1.009069</td>\n",
       "    </tr>\n",
       "    <tr>\n",
       "      <th>2019-01-01 16:25:00</th>\n",
       "      <td>0.013379</td>\n",
       "      <td>415.861379</td>\n",
       "      <td>141.295004</td>\n",
       "      <td>0.986621</td>\n",
       "    </tr>\n",
       "  </tbody>\n",
       "</table>\n",
       "</div>"
      ],
      "text/plain": [
       "                           ci        high         low       csi\n",
       "time                                                           \n",
       "2019-01-01 16:05:00  0.013135  415.861379  128.799757  0.986865\n",
       "2019-01-01 16:10:00  0.067965  415.861379  115.346744  0.932035\n",
       "2019-01-01 16:15:00  0.013846  415.861379  137.513389  0.986154\n",
       "2019-01-01 16:20:00 -0.009069  415.861379  145.143145  1.009069\n",
       "2019-01-01 16:25:00  0.013379  415.861379  141.295004  0.986621"
      ]
     },
     "execution_count": 4,
     "metadata": {},
     "output_type": "execute_result"
    }
   ],
   "source": [
    "df_2m = pd.read_csv('c02_ci_month.csv')\n",
    "df_2m['time'] = pd.to_datetime(df_2m['time'])\n",
    "df_2m = df_2m.dropna()\n",
    "df_2m = df_2m.set_index('time')\n",
    "df_2m = df_2m.drop(columns=['time.1'])\n",
    "csi = ci_to_csi3(list(df_2m['ci'].values))\n",
    "df_2m['csi'] = csi\n",
    "df_2m.head()"
   ]
  },
  {
   "cell_type": "code",
   "execution_count": 5,
   "metadata": {},
   "outputs": [
    {
     "data": {
      "text/html": [
       "<div>\n",
       "<style scoped>\n",
       "    .dataframe tbody tr th:only-of-type {\n",
       "        vertical-align: middle;\n",
       "    }\n",
       "\n",
       "    .dataframe tbody tr th {\n",
       "        vertical-align: top;\n",
       "    }\n",
       "\n",
       "    .dataframe thead th {\n",
       "        text-align: right;\n",
       "    }\n",
       "</style>\n",
       "<table border=\"1\" class=\"dataframe\">\n",
       "  <thead>\n",
       "    <tr style=\"text-align: right;\">\n",
       "      <th></th>\n",
       "      <th>ci</th>\n",
       "      <th>high</th>\n",
       "      <th>low</th>\n",
       "      <th>csi</th>\n",
       "    </tr>\n",
       "    <tr>\n",
       "      <th>time</th>\n",
       "      <th></th>\n",
       "      <th></th>\n",
       "      <th></th>\n",
       "      <th></th>\n",
       "    </tr>\n",
       "  </thead>\n",
       "  <tbody>\n",
       "    <tr>\n",
       "      <th>2019-01-01 16:05:00</th>\n",
       "      <td>0.070286</td>\n",
       "      <td>264.945409</td>\n",
       "      <td>91.070463</td>\n",
       "      <td>0.929714</td>\n",
       "    </tr>\n",
       "    <tr>\n",
       "      <th>2019-01-01 16:10:00</th>\n",
       "      <td>0.172573</td>\n",
       "      <td>264.945409</td>\n",
       "      <td>74.283494</td>\n",
       "      <td>0.827427</td>\n",
       "    </tr>\n",
       "    <tr>\n",
       "      <th>2019-01-01 16:15:00</th>\n",
       "      <td>0.069412</td>\n",
       "      <td>264.945409</td>\n",
       "      <td>96.714001</td>\n",
       "      <td>0.930588</td>\n",
       "    </tr>\n",
       "    <tr>\n",
       "      <th>2019-01-01 16:20:00</th>\n",
       "      <td>0.038903</td>\n",
       "      <td>264.945409</td>\n",
       "      <td>104.515138</td>\n",
       "      <td>0.961097</td>\n",
       "    </tr>\n",
       "    <tr>\n",
       "      <th>2019-01-01 16:25:00</th>\n",
       "      <td>0.095777</td>\n",
       "      <td>264.945409</td>\n",
       "      <td>98.172615</td>\n",
       "      <td>0.904223</td>\n",
       "    </tr>\n",
       "  </tbody>\n",
       "</table>\n",
       "</div>"
      ],
      "text/plain": [
       "                           ci        high         low       csi\n",
       "time                                                           \n",
       "2019-01-01 16:05:00  0.070286  264.945409   91.070463  0.929714\n",
       "2019-01-01 16:10:00  0.172573  264.945409   74.283494  0.827427\n",
       "2019-01-01 16:15:00  0.069412  264.945409   96.714001  0.930588\n",
       "2019-01-01 16:20:00  0.038903  264.945409  104.515138  0.961097\n",
       "2019-01-01 16:25:00  0.095777  264.945409   98.172615  0.904223"
      ]
     },
     "execution_count": 5,
     "metadata": {},
     "output_type": "execute_result"
    }
   ],
   "source": [
    "df_3m = pd.read_csv('c03_ci_month.csv')\n",
    "df_3m['time'] = pd.to_datetime(df_3m['time'])\n",
    "df_3m = df_3m.dropna()\n",
    "df_3m = df_3m.set_index('time')\n",
    "df_3m = df_3m.drop(columns=['time.1'])\n",
    "csi = ci_to_csi3(list(df_3m['ci'].values))\n",
    "df_3m['csi'] = csi\n",
    "df_3m.head()"
   ]
  },
  {
   "cell_type": "code",
   "execution_count": 10,
   "metadata": {},
   "outputs": [
    {
     "data": {
      "text/html": [
       "<div>\n",
       "<style scoped>\n",
       "    .dataframe tbody tr th:only-of-type {\n",
       "        vertical-align: middle;\n",
       "    }\n",
       "\n",
       "    .dataframe tbody tr th {\n",
       "        vertical-align: top;\n",
       "    }\n",
       "\n",
       "    .dataframe thead th {\n",
       "        text-align: right;\n",
       "    }\n",
       "</style>\n",
       "<table border=\"1\" class=\"dataframe\">\n",
       "  <thead>\n",
       "    <tr style=\"text-align: right;\">\n",
       "      <th></th>\n",
       "      <th>ghics_pvlib</th>\n",
       "      <th>ghics_tl</th>\n",
       "      <th>ghics_mc</th>\n",
       "      <th>zen</th>\n",
       "      <th>ghi</th>\n",
       "      <th>ghi_ns</th>\n",
       "      <th>ghics_rest</th>\n",
       "    </tr>\n",
       "    <tr>\n",
       "      <th>time</th>\n",
       "      <th></th>\n",
       "      <th></th>\n",
       "      <th></th>\n",
       "      <th></th>\n",
       "      <th></th>\n",
       "      <th></th>\n",
       "      <th></th>\n",
       "    </tr>\n",
       "  </thead>\n",
       "  <tbody>\n",
       "    <tr>\n",
       "      <th>2019-01-01 16:05:00</th>\n",
       "      <td>140.300612</td>\n",
       "      <td>156.313124</td>\n",
       "      <td>184.7688</td>\n",
       "      <td>79.396</td>\n",
       "      <td>154.18</td>\n",
       "      <td>174</td>\n",
       "      <td>174</td>\n",
       "    </tr>\n",
       "    <tr>\n",
       "      <th>2019-01-01 16:10:00</th>\n",
       "      <td>155.411056</td>\n",
       "      <td>171.977689</td>\n",
       "      <td>200.6832</td>\n",
       "      <td>78.628</td>\n",
       "      <td>168.46</td>\n",
       "      <td>189</td>\n",
       "      <td>189</td>\n",
       "    </tr>\n",
       "    <tr>\n",
       "      <th>2019-01-01 16:15:00</th>\n",
       "      <td>170.499527</td>\n",
       "      <td>187.561776</td>\n",
       "      <td>216.4620</td>\n",
       "      <td>77.870</td>\n",
       "      <td>182.98</td>\n",
       "      <td>44</td>\n",
       "      <td>203</td>\n",
       "    </tr>\n",
       "    <tr>\n",
       "      <th>2019-01-01 16:20:00</th>\n",
       "      <td>185.519533</td>\n",
       "      <td>203.026862</td>\n",
       "      <td>232.0884</td>\n",
       "      <td>77.124</td>\n",
       "      <td>197.40</td>\n",
       "      <td>218</td>\n",
       "      <td>218</td>\n",
       "    </tr>\n",
       "    <tr>\n",
       "      <th>2019-01-01 16:25:00</th>\n",
       "      <td>200.432172</td>\n",
       "      <td>218.340727</td>\n",
       "      <td>247.5360</td>\n",
       "      <td>76.386</td>\n",
       "      <td>211.72</td>\n",
       "      <td>52</td>\n",
       "      <td>233</td>\n",
       "    </tr>\n",
       "  </tbody>\n",
       "</table>\n",
       "</div>"
      ],
      "text/plain": [
       "                     ghics_pvlib    ghics_tl  ghics_mc     zen     ghi  \\\n",
       "time                                                                     \n",
       "2019-01-01 16:05:00   140.300612  156.313124  184.7688  79.396  154.18   \n",
       "2019-01-01 16:10:00   155.411056  171.977689  200.6832  78.628  168.46   \n",
       "2019-01-01 16:15:00   170.499527  187.561776  216.4620  77.870  182.98   \n",
       "2019-01-01 16:20:00   185.519533  203.026862  232.0884  77.124  197.40   \n",
       "2019-01-01 16:25:00   200.432172  218.340727  247.5360  76.386  211.72   \n",
       "\n",
       "                     ghi_ns  ghics_rest  \n",
       "time                                     \n",
       "2019-01-01 16:05:00     174         174  \n",
       "2019-01-01 16:10:00     189         189  \n",
       "2019-01-01 16:15:00      44         203  \n",
       "2019-01-01 16:20:00     218         218  \n",
       "2019-01-01 16:25:00      52         233  "
      ]
     },
     "execution_count": 10,
     "metadata": {},
     "output_type": "execute_result"
    }
   ],
   "source": [
    "# read the ghi values of clear-sky models and measurements\n",
    "df_g = pd.read_csv('dra_ghics_ghi_2019.csv')\n",
    "df_g['time'] = pd.to_datetime(df_g['Unnamed: 0'])\n",
    "df_g = df_g.set_index(df_g['time'])\n",
    "df_g = df_g.drop(columns=['time','Unnamed: 0'])\n",
    "df_g = df_g.dropna()\n",
    "df_g.head()"
   ]
  },
  {
   "cell_type": "code",
   "execution_count": 11,
   "metadata": {},
   "outputs": [
    {
     "data": {
      "text/plain": [
       "15083"
      ]
     },
     "execution_count": 11,
     "metadata": {},
     "output_type": "execute_result"
    }
   ],
   "source": [
    "index_c = [index for index in df_g.index if index in df_1m.index and index in df_2m.index and index in df_3m.index]\n",
    "len(index_c)"
   ]
  },
  {
   "cell_type": "code",
   "execution_count": 12,
   "metadata": {},
   "outputs": [],
   "source": [
    "ghi_1m = df_1m.loc[index_c,'csi']*df_g.loc[index_c,'ghics_rest']\n",
    "ghi_2m = df_2m.loc[index_c,'csi']*df_g.loc[index_c,'ghics_rest']\n",
    "ghi_3m = df_3m.loc[index_c,'csi']*df_g.loc[index_c,'ghics_rest']\n",
    "ghi = df_g.loc[index_c,'ghi']\n",
    "ghi_ns = df_g.loc[index_c,'ghi_ns'] # data of NSRDB"
   ]
  },
  {
   "cell_type": "code",
   "execution_count": 15,
   "metadata": {},
   "outputs": [
    {
     "data": {
      "text/plain": [
       "(109.29986333421894,\n",
       " 117.65165453853054,\n",
       " 123.96612580293362,\n",
       " 110.72164658204447,\n",
       " 509.16306570310877)"
      ]
     },
     "execution_count": 15,
     "metadata": {},
     "output_type": "execute_result"
    }
   ],
   "source": [
    "rmse1 = np.sqrt(metrics.mean_squared_error(ghi_1m,ghi))\n",
    "rmse2 = np.sqrt(metrics.mean_squared_error(ghi_2m,ghi))\n",
    "rmse3 = np.sqrt(metrics.mean_squared_error(ghi_3m,ghi))\n",
    "rmse4 = np.sqrt(metrics.mean_squared_error(ghi_ns,ghi))\n",
    "mean = np.mean(ghi)\n",
    "rmse1,rmse2,rmse3,rmse4,mean"
   ]
  },
  {
   "cell_type": "code",
   "execution_count": 16,
   "metadata": {},
   "outputs": [
    {
     "data": {
      "text/plain": [
       "(7.179440601954184,\n",
       " 15.196252126182278,\n",
       " 22.725554801347517,\n",
       " -13.412220380560957,\n",
       " 509.16306570310877)"
      ]
     },
     "execution_count": 16,
     "metadata": {},
     "output_type": "execute_result"
    }
   ],
   "source": [
    "mbe1 = np.mean(ghi_1m - ghi)\n",
    "mbe2 = np.mean(ghi_2m - ghi)\n",
    "mbe3 = np.mean(ghi_3m - ghi)\n",
    "mbe4 = np.mean(ghi_ns - ghi)\n",
    "mbe1,mbe2,mbe3,mbe4,mean"
   ]
  },
  {
   "cell_type": "code",
   "execution_count": null,
   "metadata": {},
   "outputs": [],
   "source": []
  }
 ],
 "metadata": {
  "kernelspec": {
   "display_name": "Python 3",
   "language": "python",
   "name": "python3"
  },
  "language_info": {
   "codemirror_mode": {
    "name": "ipython",
    "version": 3
   },
   "file_extension": ".py",
   "mimetype": "text/x-python",
   "name": "python",
   "nbconvert_exporter": "python",
   "pygments_lexer": "ipython3",
   "version": "3.8.5"
  }
 },
 "nbformat": 4,
 "nbformat_minor": 4
}
