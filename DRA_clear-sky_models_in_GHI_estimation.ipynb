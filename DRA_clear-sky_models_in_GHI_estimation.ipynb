{
 "cells": [
  {
   "attachments": {},
   "cell_type": "markdown",
   "metadata": {},
   "source": [
    "<br> Choice of clearsky model in heliosat method for solar resourcing (GHI estimation)\n",
    "<br> A comparison of Ineichen-Perez, McClear, Rest and improved Ineichen-Perez model."
   ]
  },
  {
   "cell_type": "code",
   "execution_count": 1,
   "metadata": {},
   "outputs": [],
   "source": [
    "import pandas as pd\n",
    "import numpy as np\n",
    "import matplotlib.pyplot as plt\n",
    "import datetime\n",
    "import pvlib\n",
    "plt.rcParams[\"font.family\"] = \"Times New Roman\"\n",
    "from sklearn import metrics\n",
    "\n",
    "import warnings\n",
    "warnings.filterwarnings(\"ignore\")"
   ]
  },
  {
   "cell_type": "code",
   "execution_count": 2,
   "metadata": {},
   "outputs": [
    {
     "data": {
      "text/html": [
       "<div>\n",
       "<style scoped>\n",
       "    .dataframe tbody tr th:only-of-type {\n",
       "        vertical-align: middle;\n",
       "    }\n",
       "\n",
       "    .dataframe tbody tr th {\n",
       "        vertical-align: top;\n",
       "    }\n",
       "\n",
       "    .dataframe thead th {\n",
       "        text-align: right;\n",
       "    }\n",
       "</style>\n",
       "<table border=\"1\" class=\"dataframe\">\n",
       "  <thead>\n",
       "    <tr style=\"text-align: right;\">\n",
       "      <th></th>\n",
       "      <th>ghics_pvlib</th>\n",
       "      <th>ghics_tl</th>\n",
       "      <th>ghics_mc</th>\n",
       "      <th>zen</th>\n",
       "      <th>ghi</th>\n",
       "      <th>ghi_ns</th>\n",
       "      <th>ghics_rest</th>\n",
       "    </tr>\n",
       "    <tr>\n",
       "      <th>time</th>\n",
       "      <th></th>\n",
       "      <th></th>\n",
       "      <th></th>\n",
       "      <th></th>\n",
       "      <th></th>\n",
       "      <th></th>\n",
       "      <th></th>\n",
       "    </tr>\n",
       "  </thead>\n",
       "  <tbody>\n",
       "    <tr>\n",
       "      <th>2019-01-01 12:05:00</th>\n",
       "      <td>0.0</td>\n",
       "      <td>0.0</td>\n",
       "      <td>0.0</td>\n",
       "      <td>123.650</td>\n",
       "      <td>NaN</td>\n",
       "      <td>0</td>\n",
       "      <td>0</td>\n",
       "    </tr>\n",
       "    <tr>\n",
       "      <th>2019-01-01 12:10:00</th>\n",
       "      <td>0.0</td>\n",
       "      <td>0.0</td>\n",
       "      <td>0.0</td>\n",
       "      <td>122.650</td>\n",
       "      <td>NaN</td>\n",
       "      <td>0</td>\n",
       "      <td>0</td>\n",
       "    </tr>\n",
       "    <tr>\n",
       "      <th>2019-01-01 12:15:00</th>\n",
       "      <td>0.0</td>\n",
       "      <td>0.0</td>\n",
       "      <td>0.0</td>\n",
       "      <td>121.650</td>\n",
       "      <td>NaN</td>\n",
       "      <td>0</td>\n",
       "      <td>0</td>\n",
       "    </tr>\n",
       "    <tr>\n",
       "      <th>2019-01-01 12:20:00</th>\n",
       "      <td>0.0</td>\n",
       "      <td>0.0</td>\n",
       "      <td>0.0</td>\n",
       "      <td>120.660</td>\n",
       "      <td>NaN</td>\n",
       "      <td>0</td>\n",
       "      <td>0</td>\n",
       "    </tr>\n",
       "    <tr>\n",
       "      <th>2019-01-01 12:25:00</th>\n",
       "      <td>0.0</td>\n",
       "      <td>0.0</td>\n",
       "      <td>0.0</td>\n",
       "      <td>119.662</td>\n",
       "      <td>NaN</td>\n",
       "      <td>0</td>\n",
       "      <td>0</td>\n",
       "    </tr>\n",
       "  </tbody>\n",
       "</table>\n",
       "</div>"
      ],
      "text/plain": [
       "                     ghics_pvlib  ghics_tl  ghics_mc      zen  ghi  ghi_ns  \\\n",
       "time                                                                         \n",
       "2019-01-01 12:05:00          0.0       0.0       0.0  123.650  NaN       0   \n",
       "2019-01-01 12:10:00          0.0       0.0       0.0  122.650  NaN       0   \n",
       "2019-01-01 12:15:00          0.0       0.0       0.0  121.650  NaN       0   \n",
       "2019-01-01 12:20:00          0.0       0.0       0.0  120.660  NaN       0   \n",
       "2019-01-01 12:25:00          0.0       0.0       0.0  119.662  NaN       0   \n",
       "\n",
       "                     ghics_rest  \n",
       "time                             \n",
       "2019-01-01 12:05:00           0  \n",
       "2019-01-01 12:10:00           0  \n",
       "2019-01-01 12:15:00           0  \n",
       "2019-01-01 12:20:00           0  \n",
       "2019-01-01 12:25:00           0  "
      ]
     },
     "execution_count": 2,
     "metadata": {},
     "output_type": "execute_result"
    }
   ],
   "source": [
    "# read clear sky ghi of clear-sky models\n",
    "df_g = pd.read_csv('dra_ghics_ghi_2019.csv')\n",
    "df_g['time'] = pd.to_datetime(df_g['Unnamed: 0'])\n",
    "df_g = df_g.set_index(df_g['time'])\n",
    "df_g = df_g.drop(columns=['time','Unnamed: 0'])\n",
    "df_g.head()"
   ]
  },
  {
   "cell_type": "code",
   "execution_count": 3,
   "metadata": {},
   "outputs": [
    {
     "data": {
      "text/html": [
       "<div>\n",
       "<style scoped>\n",
       "    .dataframe tbody tr th:only-of-type {\n",
       "        vertical-align: middle;\n",
       "    }\n",
       "\n",
       "    .dataframe tbody tr th {\n",
       "        vertical-align: top;\n",
       "    }\n",
       "\n",
       "    .dataframe thead th {\n",
       "        text-align: right;\n",
       "    }\n",
       "</style>\n",
       "<table border=\"1\" class=\"dataframe\">\n",
       "  <thead>\n",
       "    <tr style=\"text-align: right;\">\n",
       "      <th></th>\n",
       "      <th>ci</th>\n",
       "    </tr>\n",
       "    <tr>\n",
       "      <th>time</th>\n",
       "      <th></th>\n",
       "    </tr>\n",
       "  </thead>\n",
       "  <tbody>\n",
       "    <tr>\n",
       "      <th>2019-01-01 16:05:00</th>\n",
       "      <td>0.007861</td>\n",
       "    </tr>\n",
       "    <tr>\n",
       "      <th>2019-01-01 16:10:00</th>\n",
       "      <td>0.073763</td>\n",
       "    </tr>\n",
       "    <tr>\n",
       "      <th>2019-01-01 16:15:00</th>\n",
       "      <td>0.019996</td>\n",
       "    </tr>\n",
       "    <tr>\n",
       "      <th>2019-01-01 16:20:00</th>\n",
       "      <td>0.005287</td>\n",
       "    </tr>\n",
       "    <tr>\n",
       "      <th>2019-01-01 16:25:00</th>\n",
       "      <td>0.017061</td>\n",
       "    </tr>\n",
       "  </tbody>\n",
       "</table>\n",
       "</div>"
      ],
      "text/plain": [
       "                           ci\n",
       "time                         \n",
       "2019-01-01 16:05:00  0.007861\n",
       "2019-01-01 16:10:00  0.073763\n",
       "2019-01-01 16:15:00  0.019996\n",
       "2019-01-01 16:20:00  0.005287\n",
       "2019-01-01 16:25:00  0.017061"
      ]
     },
     "execution_count": 3,
     "metadata": {},
     "output_type": "execute_result"
    }
   ],
   "source": [
    "# get the ci values of dra\n",
    "df_c = pd.read_csv('ci_dra_2019.csv')\n",
    "df_c['time'] = pd.to_datetime(df_c['time'])\n",
    "df_c = df_c.set_index(df_c['time'])\n",
    "df_c = df_c.drop(columns=['time.1','time'])\n",
    "df_c.head()"
   ]
  },
  {
   "cell_type": "code",
   "execution_count": 4,
   "metadata": {},
   "outputs": [
    {
     "data": {
      "text/html": [
       "<div>\n",
       "<style scoped>\n",
       "    .dataframe tbody tr th:only-of-type {\n",
       "        vertical-align: middle;\n",
       "    }\n",
       "\n",
       "    .dataframe tbody tr th {\n",
       "        vertical-align: top;\n",
       "    }\n",
       "\n",
       "    .dataframe thead th {\n",
       "        text-align: right;\n",
       "    }\n",
       "</style>\n",
       "<table border=\"1\" class=\"dataframe\">\n",
       "  <thead>\n",
       "    <tr style=\"text-align: right;\">\n",
       "      <th></th>\n",
       "      <th>ghics_pvlib</th>\n",
       "      <th>ghics_tl</th>\n",
       "      <th>ghics_mc</th>\n",
       "      <th>zen</th>\n",
       "      <th>ghi</th>\n",
       "      <th>ghi_ns</th>\n",
       "      <th>ghics_rest</th>\n",
       "      <th>ci</th>\n",
       "    </tr>\n",
       "    <tr>\n",
       "      <th>time</th>\n",
       "      <th></th>\n",
       "      <th></th>\n",
       "      <th></th>\n",
       "      <th></th>\n",
       "      <th></th>\n",
       "      <th></th>\n",
       "      <th></th>\n",
       "      <th></th>\n",
       "    </tr>\n",
       "  </thead>\n",
       "  <tbody>\n",
       "    <tr>\n",
       "      <th>2019-01-01 16:05:00</th>\n",
       "      <td>140.300612</td>\n",
       "      <td>156.313124</td>\n",
       "      <td>184.7688</td>\n",
       "      <td>79.396</td>\n",
       "      <td>154.18</td>\n",
       "      <td>174</td>\n",
       "      <td>174</td>\n",
       "      <td>0.007861</td>\n",
       "    </tr>\n",
       "    <tr>\n",
       "      <th>2019-01-01 16:10:00</th>\n",
       "      <td>155.411056</td>\n",
       "      <td>171.977689</td>\n",
       "      <td>200.6832</td>\n",
       "      <td>78.628</td>\n",
       "      <td>168.46</td>\n",
       "      <td>189</td>\n",
       "      <td>189</td>\n",
       "      <td>0.073763</td>\n",
       "    </tr>\n",
       "    <tr>\n",
       "      <th>2019-01-01 16:15:00</th>\n",
       "      <td>170.499527</td>\n",
       "      <td>187.561776</td>\n",
       "      <td>216.4620</td>\n",
       "      <td>77.870</td>\n",
       "      <td>182.98</td>\n",
       "      <td>44</td>\n",
       "      <td>203</td>\n",
       "      <td>0.019996</td>\n",
       "    </tr>\n",
       "    <tr>\n",
       "      <th>2019-01-01 16:20:00</th>\n",
       "      <td>185.519533</td>\n",
       "      <td>203.026862</td>\n",
       "      <td>232.0884</td>\n",
       "      <td>77.124</td>\n",
       "      <td>197.40</td>\n",
       "      <td>218</td>\n",
       "      <td>218</td>\n",
       "      <td>0.005287</td>\n",
       "    </tr>\n",
       "    <tr>\n",
       "      <th>2019-01-01 16:25:00</th>\n",
       "      <td>200.432172</td>\n",
       "      <td>218.340727</td>\n",
       "      <td>247.5360</td>\n",
       "      <td>76.386</td>\n",
       "      <td>211.72</td>\n",
       "      <td>52</td>\n",
       "      <td>233</td>\n",
       "      <td>0.017061</td>\n",
       "    </tr>\n",
       "  </tbody>\n",
       "</table>\n",
       "</div>"
      ],
      "text/plain": [
       "                     ghics_pvlib    ghics_tl  ghics_mc     zen     ghi  \\\n",
       "time                                                                     \n",
       "2019-01-01 16:05:00   140.300612  156.313124  184.7688  79.396  154.18   \n",
       "2019-01-01 16:10:00   155.411056  171.977689  200.6832  78.628  168.46   \n",
       "2019-01-01 16:15:00   170.499527  187.561776  216.4620  77.870  182.98   \n",
       "2019-01-01 16:20:00   185.519533  203.026862  232.0884  77.124  197.40   \n",
       "2019-01-01 16:25:00   200.432172  218.340727  247.5360  76.386  211.72   \n",
       "\n",
       "                     ghi_ns  ghics_rest        ci  \n",
       "time                                               \n",
       "2019-01-01 16:05:00     174         174  0.007861  \n",
       "2019-01-01 16:10:00     189         189  0.073763  \n",
       "2019-01-01 16:15:00      44         203  0.019996  \n",
       "2019-01-01 16:20:00     218         218  0.005287  \n",
       "2019-01-01 16:25:00      52         233  0.017061  "
      ]
     },
     "execution_count": 4,
     "metadata": {},
     "output_type": "execute_result"
    }
   ],
   "source": [
    "# combine dataset\n",
    "df_a = pd.concat([df_g,df_c],axis=1,join='inner')\n",
    "df_a = df_a.dropna() # drop NaN values\n",
    "df_a.head()"
   ]
  },
  {
   "cell_type": "code",
   "execution_count": 5,
   "metadata": {},
   "outputs": [
    {
     "data": {
      "text/plain": [
       "(42440, 42440)"
      ]
     },
     "execution_count": 5,
     "metadata": {},
     "output_type": "execute_result"
    }
   ],
   "source": [
    "# ci to csi using M3\n",
    "csi = []\n",
    "for x in df_a['ci'].values:\n",
    "    if x < -0.2:\n",
    "        csi.append(1.2)\n",
    "    if x >= -0.2 and x < 0.8:\n",
    "        csi.append(1-x)\n",
    "    if x >= 0.8 and x < 1.1:\n",
    "        csi_ = 2.0667 - 3.6667*x + 1.6667*x*x\n",
    "        csi.append(csi_)\n",
    "    if x >= 1.1:\n",
    "        csi.append(0.05)\n",
    "len(df_a['ci']),len(csi)"
   ]
  },
  {
   "cell_type": "code",
   "execution_count": 6,
   "metadata": {},
   "outputs": [
    {
     "data": {
      "text/html": [
       "<div>\n",
       "<style scoped>\n",
       "    .dataframe tbody tr th:only-of-type {\n",
       "        vertical-align: middle;\n",
       "    }\n",
       "\n",
       "    .dataframe tbody tr th {\n",
       "        vertical-align: top;\n",
       "    }\n",
       "\n",
       "    .dataframe thead th {\n",
       "        text-align: right;\n",
       "    }\n",
       "</style>\n",
       "<table border=\"1\" class=\"dataframe\">\n",
       "  <thead>\n",
       "    <tr style=\"text-align: right;\">\n",
       "      <th></th>\n",
       "      <th>ghics_pvlib</th>\n",
       "      <th>ghics_tl</th>\n",
       "      <th>ghics_mc</th>\n",
       "      <th>zen</th>\n",
       "      <th>ghi</th>\n",
       "      <th>ghi_ns</th>\n",
       "      <th>ghics_rest</th>\n",
       "      <th>ci</th>\n",
       "      <th>csi</th>\n",
       "      <th>ghi_pvlib</th>\n",
       "      <th>ghi_tl</th>\n",
       "      <th>ghi_rest</th>\n",
       "      <th>ghi_mc</th>\n",
       "    </tr>\n",
       "    <tr>\n",
       "      <th>time</th>\n",
       "      <th></th>\n",
       "      <th></th>\n",
       "      <th></th>\n",
       "      <th></th>\n",
       "      <th></th>\n",
       "      <th></th>\n",
       "      <th></th>\n",
       "      <th></th>\n",
       "      <th></th>\n",
       "      <th></th>\n",
       "      <th></th>\n",
       "      <th></th>\n",
       "      <th></th>\n",
       "    </tr>\n",
       "  </thead>\n",
       "  <tbody>\n",
       "    <tr>\n",
       "      <th>2019-01-01 16:05:00</th>\n",
       "      <td>140.300612</td>\n",
       "      <td>156.313124</td>\n",
       "      <td>184.7688</td>\n",
       "      <td>79.396</td>\n",
       "      <td>154.18</td>\n",
       "      <td>174</td>\n",
       "      <td>174</td>\n",
       "      <td>0.007861</td>\n",
       "      <td>0.992139</td>\n",
       "      <td>139.197666</td>\n",
       "      <td>155.084299</td>\n",
       "      <td>172.632133</td>\n",
       "      <td>183.316276</td>\n",
       "    </tr>\n",
       "    <tr>\n",
       "      <th>2019-01-01 16:10:00</th>\n",
       "      <td>155.411056</td>\n",
       "      <td>171.977689</td>\n",
       "      <td>200.6832</td>\n",
       "      <td>78.628</td>\n",
       "      <td>168.46</td>\n",
       "      <td>189</td>\n",
       "      <td>189</td>\n",
       "      <td>0.073763</td>\n",
       "      <td>0.926237</td>\n",
       "      <td>143.947395</td>\n",
       "      <td>159.292016</td>\n",
       "      <td>175.058701</td>\n",
       "      <td>185.880108</td>\n",
       "    </tr>\n",
       "    <tr>\n",
       "      <th>2019-01-01 16:15:00</th>\n",
       "      <td>170.499527</td>\n",
       "      <td>187.561776</td>\n",
       "      <td>216.4620</td>\n",
       "      <td>77.870</td>\n",
       "      <td>182.98</td>\n",
       "      <td>44</td>\n",
       "      <td>203</td>\n",
       "      <td>0.019996</td>\n",
       "      <td>0.980004</td>\n",
       "      <td>167.090194</td>\n",
       "      <td>183.811264</td>\n",
       "      <td>198.940783</td>\n",
       "      <td>212.133595</td>\n",
       "    </tr>\n",
       "    <tr>\n",
       "      <th>2019-01-01 16:20:00</th>\n",
       "      <td>185.519533</td>\n",
       "      <td>203.026862</td>\n",
       "      <td>232.0884</td>\n",
       "      <td>77.124</td>\n",
       "      <td>197.40</td>\n",
       "      <td>218</td>\n",
       "      <td>218</td>\n",
       "      <td>0.005287</td>\n",
       "      <td>0.994713</td>\n",
       "      <td>184.538771</td>\n",
       "      <td>201.953546</td>\n",
       "      <td>216.847528</td>\n",
       "      <td>230.861449</td>\n",
       "    </tr>\n",
       "    <tr>\n",
       "      <th>2019-01-01 16:25:00</th>\n",
       "      <td>200.432172</td>\n",
       "      <td>218.340727</td>\n",
       "      <td>247.5360</td>\n",
       "      <td>76.386</td>\n",
       "      <td>211.72</td>\n",
       "      <td>52</td>\n",
       "      <td>233</td>\n",
       "      <td>0.017061</td>\n",
       "      <td>0.982939</td>\n",
       "      <td>197.012564</td>\n",
       "      <td>214.615578</td>\n",
       "      <td>229.024746</td>\n",
       "      <td>243.312745</td>\n",
       "    </tr>\n",
       "  </tbody>\n",
       "</table>\n",
       "</div>"
      ],
      "text/plain": [
       "                     ghics_pvlib    ghics_tl  ghics_mc     zen     ghi  \\\n",
       "time                                                                     \n",
       "2019-01-01 16:05:00   140.300612  156.313124  184.7688  79.396  154.18   \n",
       "2019-01-01 16:10:00   155.411056  171.977689  200.6832  78.628  168.46   \n",
       "2019-01-01 16:15:00   170.499527  187.561776  216.4620  77.870  182.98   \n",
       "2019-01-01 16:20:00   185.519533  203.026862  232.0884  77.124  197.40   \n",
       "2019-01-01 16:25:00   200.432172  218.340727  247.5360  76.386  211.72   \n",
       "\n",
       "                     ghi_ns  ghics_rest        ci       csi   ghi_pvlib  \\\n",
       "time                                                                      \n",
       "2019-01-01 16:05:00     174         174  0.007861  0.992139  139.197666   \n",
       "2019-01-01 16:10:00     189         189  0.073763  0.926237  143.947395   \n",
       "2019-01-01 16:15:00      44         203  0.019996  0.980004  167.090194   \n",
       "2019-01-01 16:20:00     218         218  0.005287  0.994713  184.538771   \n",
       "2019-01-01 16:25:00      52         233  0.017061  0.982939  197.012564   \n",
       "\n",
       "                         ghi_tl    ghi_rest      ghi_mc  \n",
       "time                                                     \n",
       "2019-01-01 16:05:00  155.084299  172.632133  183.316276  \n",
       "2019-01-01 16:10:00  159.292016  175.058701  185.880108  \n",
       "2019-01-01 16:15:00  183.811264  198.940783  212.133595  \n",
       "2019-01-01 16:20:00  201.953546  216.847528  230.861449  \n",
       "2019-01-01 16:25:00  214.615578  229.024746  243.312745  "
      ]
     },
     "execution_count": 6,
     "metadata": {},
     "output_type": "execute_result"
    }
   ],
   "source": [
    "# GHI estimation based on csi and clear-sky models\n",
    "df_a['csi'] = csi\n",
    "df_a['ghi_pvlib'] = df_a['ghics_pvlib']*df_a['csi']\n",
    "df_a['ghi_tl'] = df_a['ghics_tl']*df_a['csi']\n",
    "df_a['ghi_rest'] = df_a['ghics_rest']*df_a['csi']\n",
    "df_a['ghi_mc'] = df_a['ghics_mc']*df_a['csi']\n",
    "df_a.head()"
   ]
  },
  {
   "cell_type": "code",
   "execution_count": 7,
   "metadata": {},
   "outputs": [
    {
     "data": {
      "text/plain": [
       "362"
      ]
     },
     "execution_count": 7,
     "metadata": {},
     "output_type": "execute_result"
    }
   ],
   "source": [
    "# get the dates to plot some time series data\n",
    "dates = list(set(str(index)[:10] for index in df_a.index))\n",
    "dates = pd.to_datetime(dates)\n",
    "dates = dates.sort_values()\n",
    "len(dates)"
   ]
  },
  {
   "cell_type": "code",
   "execution_count": 8,
   "metadata": {
    "scrolled": true
   },
   "outputs": [
    {
     "data": {
      "image/png": "[encoded data removed]",
      "text/plain": [
       "<Figure size 648x360 with 1 Axes>"
      ]
     },
     "metadata": {
      "needs_background": "light"
     },
     "output_type": "display_data"
    },
    {
     "name": "stdout",
     "output_type": "stream",
     "text": [
      "16.626165112234332 5.390724116613108 35.68776018291456 16.881007659395852\n",
      "2019-01-01 00:00:00\n"
     ]
    },
    {
     "data": {
      "image/png": "[encoded data removed]",
      "text/plain": [
       "<Figure size 648x360 with 1 Axes>"
      ]
     },
     "metadata": {
      "needs_background": "light"
     },
     "output_type": "display_data"
    },
    {
     "name": "stdout",
     "output_type": "stream",
     "text": [
      "10.218381494799232 11.20888646459546 28.185383329704738 13.778216146211452\n",
      "2019-01-02 00:00:00\n"
     ]
    },
    {
     "data": {
      "image/png": "[encoded data removed]",
      "text/plain": [
       "<Figure size 648x360 with 1 Axes>"
      ]
     },
     "metadata": {
      "needs_background": "light"
     },
     "output_type": "display_data"
    },
    {
     "name": "stdout",
     "output_type": "stream",
     "text": [
      "8.157623054054005 9.208809222995404 16.963193150455538 9.179952761972666\n",
      "2019-01-03 00:00:00\n"
     ]
    }
   ],
   "source": [
    "# select a few days to show the results\n",
    "for date in dates[:3]:\n",
    "    dt = date\n",
    "    dt_ = dt + datetime.timedelta(minutes=1440)\n",
    "    \n",
    "    times = pd.date_range(start=dt+datetime.timedelta(minutes=720),\n",
    "                          end=dt_+datetime.timedelta(minutes=240),\n",
    "                          freq='5min')\n",
    "    times = [time for time in times if time in df_a.index]\n",
    "    try:\n",
    "        df_a.loc[times,['ghi','ghics_tl','ghi_tl','ghi_ns']].plot(figsize=(9,5),legend=True)\n",
    "        plt.ylabel('GHI [W/m$^2$]')\n",
    "        plt.xlabel('Time')\n",
    "        plt.show()\n",
    "        rmse1 = np.sqrt(metrics.mean_squared_error(df_a.loc[times,'ghi'],df_a.loc[times,'ghi_pvlib']))\n",
    "        rmse2 = np.sqrt(metrics.mean_squared_error(df_a.loc[times,'ghi'],df_a.loc[times,'ghi_tl']))\n",
    "        rmse3 = np.sqrt(metrics.mean_squared_error(df_a.loc[times,'ghi'],df_a.loc[times,'ghi_mc']))\n",
    "        rmse4 = np.sqrt(metrics.mean_squared_error(df_a.loc[times,'ghi'],df_a.loc[times,'ghi_rest']))\n",
    "        print(rmse1,rmse2,rmse3,rmse4)\n",
    "        print(date)\n",
    "    except:\n",
    "        print (str(date)[:10]+' all nans')"
   ]
  },
  {
   "cell_type": "code",
   "execution_count": 9,
   "metadata": {},
   "outputs": [
    {
     "name": "stdout",
     "output_type": "stream",
     "text": [
      "106.10165957030772 104.79089124738358 105.02853644285481 104.6637818546948 100.57011932692836\n"
     ]
    }
   ],
   "source": [
    "rmse1 = np.sqrt(metrics.mean_squared_error(df_a['ghi'],df_a['ghi_pvlib']))\n",
    "rmse2 = np.sqrt(metrics.mean_squared_error(df_a['ghi'],df_a['ghi_tl']))\n",
    "rmse3 = np.sqrt(metrics.mean_squared_error(df_a['ghi'],df_a['ghi_mc']))\n",
    "rmse4 = np.sqrt(metrics.mean_squared_error(df_a['ghi'],df_a['ghi_rest']))\n",
    "rmse5 = np.sqrt(metrics.mean_squared_error(df_a['ghi'],df_a['ghi_ns']))\n",
    "print(rmse1,rmse2,rmse3,rmse4,rmse5)"
   ]
  },
  {
   "cell_type": "code",
   "execution_count": 11,
   "metadata": {},
   "outputs": [
    {
     "name": "stdout",
     "output_type": "stream",
     "text": [
      "62.58187881095748 53.626599100116486 55.364369590772355 55.81981732720671 51.43415362865221\n"
     ]
    }
   ],
   "source": [
    "mae1 = metrics.mean_absolute_error(df_a['ghi'],df_a['ghi_pvlib'])\n",
    "mae2 = metrics.mean_absolute_error(df_a['ghi'],df_a['ghi_tl'])\n",
    "mae3 = metrics.mean_absolute_error(df_a['ghi'],df_a['ghi_mc'])\n",
    "mae4 = metrics.mean_absolute_error(df_a['ghi'],df_a['ghi_rest'])\n",
    "mae5 = metrics.mean_absolute_error(df_a['ghi'],df_a['ghi_ns'])\n",
    "print(mae1,mae2,mae3,mae4,mae5)"
   ]
  },
  {
   "cell_type": "code",
   "execution_count": 12,
   "metadata": {},
   "outputs": [
    {
     "data": {
      "text/plain": [
       "(-11.930246219964024,\n",
       " 4.775645898804744,\n",
       " 6.947057501442407,\n",
       " 0.8858461650845899,\n",
       " -8.409671065033061)"
      ]
     },
     "execution_count": 12,
     "metadata": {},
     "output_type": "execute_result"
    }
   ],
   "source": [
    "mbe1 = np.mean(df_a['ghi_pvlib'] - df_a['ghi'])\n",
    "mbe2 = np.mean(df_a['ghi_tl'] - df_a['ghi'])\n",
    "mbe3 = np.mean(df_a['ghi_mc'] - df_a['ghi'])\n",
    "mbe4 = np.mean(df_a['ghi_rest'] - df_a['ghi'])\n",
    "mbe5 = np.mean(df_a['ghi_ns'] - df_a['ghi'])\n",
    "mbe1,mbe2,mbe3,mbe4,mbe5"
   ]
  },
  {
   "cell_type": "code",
   "execution_count": 13,
   "metadata": {},
   "outputs": [
    {
     "data": {
      "text/html": [
       "<div>\n",
       "<style scoped>\n",
       "    .dataframe tbody tr th:only-of-type {\n",
       "        vertical-align: middle;\n",
       "    }\n",
       "\n",
       "    .dataframe tbody tr th {\n",
       "        vertical-align: top;\n",
       "    }\n",
       "\n",
       "    .dataframe thead th {\n",
       "        text-align: right;\n",
       "    }\n",
       "</style>\n",
       "<table border=\"1\" class=\"dataframe\">\n",
       "  <thead>\n",
       "    <tr style=\"text-align: right;\">\n",
       "      <th></th>\n",
       "      <th>dra</th>\n",
       "      <th>bon</th>\n",
       "      <th>tbl</th>\n",
       "      <th>fpk</th>\n",
       "      <th>psu</th>\n",
       "      <th>sxf</th>\n",
       "      <th>gwn</th>\n",
       "    </tr>\n",
       "    <tr>\n",
       "      <th>date</th>\n",
       "      <th></th>\n",
       "      <th></th>\n",
       "      <th></th>\n",
       "      <th></th>\n",
       "      <th></th>\n",
       "      <th></th>\n",
       "      <th></th>\n",
       "    </tr>\n",
       "  </thead>\n",
       "  <tbody>\n",
       "    <tr>\n",
       "      <th>2019-01-01</th>\n",
       "      <td>2.0</td>\n",
       "      <td>NaN</td>\n",
       "      <td>NaN</td>\n",
       "      <td>NaN</td>\n",
       "      <td>NaN</td>\n",
       "      <td>NaN</td>\n",
       "      <td>0.0</td>\n",
       "    </tr>\n",
       "    <tr>\n",
       "      <th>2019-01-02</th>\n",
       "      <td>2.0</td>\n",
       "      <td>NaN</td>\n",
       "      <td>NaN</td>\n",
       "      <td>NaN</td>\n",
       "      <td>NaN</td>\n",
       "      <td>NaN</td>\n",
       "      <td>0.0</td>\n",
       "    </tr>\n",
       "    <tr>\n",
       "      <th>2019-01-03</th>\n",
       "      <td>2.0</td>\n",
       "      <td>NaN</td>\n",
       "      <td>NaN</td>\n",
       "      <td>NaN</td>\n",
       "      <td>NaN</td>\n",
       "      <td>NaN</td>\n",
       "      <td>0.0</td>\n",
       "    </tr>\n",
       "    <tr>\n",
       "      <th>2019-01-04</th>\n",
       "      <td>2.0</td>\n",
       "      <td>NaN</td>\n",
       "      <td>NaN</td>\n",
       "      <td>NaN</td>\n",
       "      <td>NaN</td>\n",
       "      <td>NaN</td>\n",
       "      <td>0.0</td>\n",
       "    </tr>\n",
       "    <tr>\n",
       "      <th>2019-01-05</th>\n",
       "      <td>0.0</td>\n",
       "      <td>NaN</td>\n",
       "      <td>NaN</td>\n",
       "      <td>NaN</td>\n",
       "      <td>NaN</td>\n",
       "      <td>NaN</td>\n",
       "      <td>1.0</td>\n",
       "    </tr>\n",
       "  </tbody>\n",
       "</table>\n",
       "</div>"
      ],
      "text/plain": [
       "            dra  bon  tbl  fpk  psu  sxf  gwn\n",
       "date                                         \n",
       "2019-01-01  2.0  NaN  NaN  NaN  NaN  NaN  0.0\n",
       "2019-01-02  2.0  NaN  NaN  NaN  NaN  NaN  0.0\n",
       "2019-01-03  2.0  NaN  NaN  NaN  NaN  NaN  0.0\n",
       "2019-01-04  2.0  NaN  NaN  NaN  NaN  NaN  0.0\n",
       "2019-01-05  0.0  NaN  NaN  NaN  NaN  NaN  1.0"
      ]
     },
     "execution_count": 13,
     "metadata": {},
     "output_type": "execute_result"
    }
   ],
   "source": [
    "# cloudy day (0), partly cloudy (1), clear day (2)\n",
    "df_c = pd.read_csv('clear_days_surfrad_2019.csv')\n",
    "df_c['date'] = pd.to_datetime(df_c['date'])\n",
    "df_c = df_c.set_index('date')\n",
    "df_c.head()"
   ]
  },
  {
   "cell_type": "code",
   "execution_count": 15,
   "metadata": {},
   "outputs": [
    {
     "data": {
      "text/plain": [
       "((10005, 13), (15930, 13), (12821, 13))"
      ]
     },
     "execution_count": 15,
     "metadata": {},
     "output_type": "execute_result"
    }
   ],
   "source": [
    "# get the dataset in different sky conditions\n",
    "# cloudy day (0), partly cloudy (1), clear day (2)\n",
    "\n",
    "df_0 = pd.DataFrame()\n",
    "df_1 = pd.DataFrame()\n",
    "df_2 = pd.DataFrame()\n",
    "\n",
    "for date in df_c.index:\n",
    "    if df_c.loc[date,'dra'] == 0:\n",
    "        dt = date\n",
    "        dt_ = dt + datetime.timedelta(days=1)\n",
    "        times = pd.date_range(start=dt+datetime.timedelta(minutes=720),\n",
    "                          end=dt_+datetime.timedelta(minutes=240),\n",
    "                          freq='5min')\n",
    "        times_ = [time for time in times if time in df_a.index]\n",
    "        df_0 = pd.concat([df_0,df_a.loc[times_]])\n",
    "    elif df_c.loc[date,'dra'] == 1:\n",
    "        dt = date\n",
    "        dt_ = dt + datetime.timedelta(days=1)\n",
    "        times = pd.date_range(start=dt+datetime.timedelta(minutes=720),\n",
    "                          end=dt_+datetime.timedelta(minutes=240),\n",
    "                          freq='5min')\n",
    "        times_ = [time for time in times if time in df_a.index]\n",
    "        df_1 = pd.concat([df_1,df_a.loc[times_]])\n",
    "    elif df_c.loc[date,'dra'] == 2:\n",
    "        dt = date\n",
    "        dt_ = dt + datetime.timedelta(days=1)\n",
    "        times = pd.date_range(start=dt+datetime.timedelta(minutes=720),\n",
    "                          end=dt_+datetime.timedelta(minutes=240),\n",
    "                          freq='5min')\n",
    "        times_ = [time for time in times if time in df_a.index]\n",
    "        df_2 = pd.concat([df_2,df_a.loc[times_]])\n",
    "    else:\n",
    "        pass\n",
    "df_0.shape,df_1.shape,df_2.shape"
   ]
  },
  {
   "cell_type": "code",
   "execution_count": 16,
   "metadata": {},
   "outputs": [
    {
     "name": "stdout",
     "output_type": "stream",
     "text": [
      "142.7020692678771 144.3552114152793 144.15932521405475 143.33605044357944 141.8589077022404 379.71647176411807\n"
     ]
    }
   ],
   "source": [
    "rmse1 = np.sqrt(metrics.mean_squared_error(df_0['ghi'],df_0['ghi_pvlib']))\n",
    "rmse2 = np.sqrt(metrics.mean_squared_error(df_0['ghi'],df_0['ghi_tl']))\n",
    "rmse3 = np.sqrt(metrics.mean_squared_error(df_0['ghi'],df_0['ghi_mc']))\n",
    "rmse4 = np.sqrt(metrics.mean_squared_error(df_0['ghi'],df_0['ghi_rest']))\n",
    "rmse5 = np.sqrt(metrics.mean_squared_error(df_0['ghi'],df_0['ghi_ns']))\n",
    "mean = df_0['ghi'].mean()\n",
    "print(rmse1,rmse2,rmse3,rmse4,rmse5,mean)"
   ]
  },
  {
   "cell_type": "code",
   "execution_count": 17,
   "metadata": {},
   "outputs": [
    {
     "name": "stdout",
     "output_type": "stream",
     "text": [
      "99.4652232511874 99.96075822876618 100.6138903193042 100.39007532927192 94.7135732133933\n"
     ]
    }
   ],
   "source": [
    "mae1 = metrics.mean_absolute_error(df_0['ghi'],df_0['ghi_pvlib'])\n",
    "mae2 = metrics.mean_absolute_error(df_0['ghi'],df_0['ghi_tl'])\n",
    "mae3 = metrics.mean_absolute_error(df_0['ghi'],df_0['ghi_mc'])\n",
    "mae4 = metrics.mean_absolute_error(df_0['ghi'],df_0['ghi_rest'])\n",
    "mae5 = metrics.mean_absolute_error(df_0['ghi'],df_0['ghi_ns'])\n",
    "print(mae1,mae2,mae3,mae4,mae5)"
   ]
  },
  {
   "cell_type": "code",
   "execution_count": 18,
   "metadata": {},
   "outputs": [
    {
     "name": "stdout",
     "output_type": "stream",
     "text": [
      "16.904013719862547 26.491502915646848 26.29092802994985 20.45059041488265 -16.137861069465256\n"
     ]
    }
   ],
   "source": [
    "mbe1 = np.mean(-df_0['ghi']+df_0['ghi_pvlib'])\n",
    "mbe2 = np.mean(-df_0['ghi']+df_0['ghi_tl'])\n",
    "mbe3 = np.mean(-df_0['ghi']+df_0['ghi_mc'])\n",
    "mbe4 = np.mean(-df_0['ghi']+df_0['ghi_rest'])\n",
    "mbe5 = np.mean(-df_0['ghi']+df_0['ghi_ns'])\n",
    "print(mbe1,mbe2,mbe3,mbe4,mbe5)"
   ]
  },
  {
   "cell_type": "code",
   "execution_count": 19,
   "metadata": {},
   "outputs": [
    {
     "name": "stdout",
     "output_type": "stream",
     "text": [
      "104.56917561614965 103.05925159021778 103.56153527866451 103.28200369055747 98.40447086758529 587.3282297551799\n"
     ]
    }
   ],
   "source": [
    "rmse1 = np.sqrt(metrics.mean_squared_error(df_1['ghi'],df_1['ghi_pvlib']))\n",
    "rmse2 = np.sqrt(metrics.mean_squared_error(df_1['ghi'],df_1['ghi_tl']))\n",
    "rmse3 = np.sqrt(metrics.mean_squared_error(df_1['ghi'],df_1['ghi_mc']))\n",
    "rmse4 = np.sqrt(metrics.mean_squared_error(df_1['ghi'],df_1['ghi_rest']))\n",
    "rmse5 = np.sqrt(metrics.mean_squared_error(df_1['ghi'],df_1['ghi_ns']))\n",
    "mean = df_1['ghi'].mean()\n",
    "print(rmse1,rmse2,rmse3,rmse4,rmse5,mean)"
   ]
  },
  {
   "cell_type": "code",
   "execution_count": 20,
   "metadata": {},
   "outputs": [
    {
     "name": "stdout",
     "output_type": "stream",
     "text": [
      "60.04404824209626 51.7016420726912 54.27287809698421 54.84764940628711 50.88625109855618\n"
     ]
    }
   ],
   "source": [
    "mae1 = metrics.mean_absolute_error(df_1['ghi'],df_1['ghi_pvlib'])\n",
    "mae2 = metrics.mean_absolute_error(df_1['ghi'],df_1['ghi_tl'])\n",
    "mae3 = metrics.mean_absolute_error(df_1['ghi'],df_1['ghi_mc'])\n",
    "mae4 = metrics.mean_absolute_error(df_1['ghi'],df_1['ghi_rest'])\n",
    "mae5 = metrics.mean_absolute_error(df_1['ghi'],df_1['ghi_ns'])\n",
    "print(mae1,mae2,mae3,mae4,mae5)"
   ]
  },
  {
   "cell_type": "code",
   "execution_count": 21,
   "metadata": {},
   "outputs": [
    {
     "name": "stdout",
     "output_type": "stream",
     "text": [
      "17.29412698716564 -0.5819697815259175 -2.336179366906358 4.490514351828486 10.239466415568126\n"
     ]
    }
   ],
   "source": [
    "mbe1 = np.mean(-df_1['ghi']+df_1['ghi_pvlib'])\n",
    "mbe2 = np.mean(-df_1['ghi']+df_1['ghi_tl'])\n",
    "mbe3 = np.mean(-df_1['ghi']+df_1['ghi_mc'])\n",
    "mbe4 = np.mean(-df_1['ghi']+df_1['ghi_rest'])\n",
    "mbe5 = np.mean(-df_1['ghi']+df_1['ghi_ns'])\n",
    "print(mbe1,mbe2,mbe3,mbe4,mbe5)"
   ]
  },
  {
   "cell_type": "code",
   "execution_count": 22,
   "metadata": {},
   "outputs": [
    {
     "name": "stdout",
     "output_type": "stream",
     "text": [
      "31.611755717682968 14.369010450123964 15.908590436764404 16.015789217711134 14.607157478117209 625.8489852585574\n"
     ]
    }
   ],
   "source": [
    "rmse1 = np.sqrt(metrics.mean_squared_error(df_2['ghi'],df_2['ghi_pvlib']))\n",
    "rmse2 = np.sqrt(metrics.mean_squared_error(df_2['ghi'],df_2['ghi_tl']))\n",
    "rmse3 = np.sqrt(metrics.mean_squared_error(df_2['ghi'],df_2['ghi_mc']))\n",
    "rmse4 = np.sqrt(metrics.mean_squared_error(df_2['ghi'],df_2['ghi_rest']))\n",
    "rmse5 = np.sqrt(metrics.mean_squared_error(df_2['ghi'],df_2['ghi_ns']))\n",
    "mean = df_2['ghi'].mean()\n",
    "print(rmse1,rmse2,rmse3,rmse4,rmse5,mean)"
   ]
  },
  {
   "cell_type": "code",
   "execution_count": 23,
   "metadata": {},
   "outputs": [
    {
     "name": "stdout",
     "output_type": "stream",
     "text": [
      "27.456953349803648 9.7317451612125 11.261302276976128 11.73506771213256 10.881453864753139\n"
     ]
    }
   ],
   "source": [
    "mae1 = metrics.mean_absolute_error(df_2['ghi'],df_2['ghi_pvlib'])\n",
    "mae2 = metrics.mean_absolute_error(df_2['ghi'],df_2['ghi_tl'])\n",
    "mae3 = metrics.mean_absolute_error(df_2['ghi'],df_2['ghi_mc'])\n",
    "mae4 = metrics.mean_absolute_error(df_2['ghi'],df_2['ghi_rest'])\n",
    "mae5 = metrics.mean_absolute_error(df_2['ghi'],df_2['ghi_ns'])\n",
    "print(mae1,mae2,mae3,mae4,mae5)"
   ]
  },
  {
   "cell_type": "code",
   "execution_count": 24,
   "metadata": {},
   "outputs": [
    {
     "name": "stdout",
     "output_type": "stream",
     "text": [
      "26.71927735062785 4.979394571942478 -1.6788768370311427 4.130601872122484 -1.2599766008891633\n"
     ]
    }
   ],
   "source": [
    "mbe1 = np.mean(-df_2['ghi']+df_2['ghi_pvlib'])\n",
    "mbe2 = np.mean(-df_2['ghi']+df_2['ghi_tl'])\n",
    "mbe3 = np.mean(-df_2['ghi']+df_2['ghi_mc'])\n",
    "mbe4 = np.mean(-df_2['ghi']+df_2['ghi_rest'])\n",
    "mbe5 = np.mean(-df_2['ghi']+df_2['ghi_ns'])\n",
    "print(mbe1,mbe2,mbe3,mbe4,mbe5)"
   ]
  },
  {
   "cell_type": "code",
   "execution_count": 25,
   "metadata": {},
   "outputs": [
    {
     "name": "stdout",
     "output_type": "stream",
     "text": [
      "25.64803181456898 9.87527715840957 15.580517733066516 12.955519304379237 14.607157478117209\n"
     ]
    }
   ],
   "source": [
    "rmse1 = np.sqrt(metrics.mean_squared_error(df_2['ghi'],df_2['ghics_pvlib']))\n",
    "rmse2 = np.sqrt(metrics.mean_squared_error(df_2['ghi'],df_2['ghics_tl']))\n",
    "rmse3 = np.sqrt(metrics.mean_squared_error(df_2['ghi'],df_2['ghics_mc']))\n",
    "rmse4 = np.sqrt(metrics.mean_squared_error(df_2['ghi'],df_2['ghics_rest']))\n",
    "rmse5 = np.sqrt(metrics.mean_squared_error(df_2['ghi'],df_2['ghi_ns']))\n",
    "print(rmse1,rmse2,rmse3,rmse4,rmse5)"
   ]
  },
  {
   "cell_type": "code",
   "execution_count": 26,
   "metadata": {},
   "outputs": [
    {
     "name": "stdout",
     "output_type": "stream",
     "text": [
      "22.38385961138666 7.623652192436445 12.389671632477969 10.520252710397004 10.881453864753139\n"
     ]
    }
   ],
   "source": [
    "mae1 = metrics.mean_absolute_error(df_2['ghi'],df_2['ghics_pvlib'])\n",
    "mae2 = metrics.mean_absolute_error(df_2['ghi'],df_2['ghics_tl'])\n",
    "mae3 = metrics.mean_absolute_error(df_2['ghi'],df_2['ghics_mc'])\n",
    "mae4 = metrics.mean_absolute_error(df_2['ghi'],df_2['ghics_rest'])\n",
    "mae5 = metrics.mean_absolute_error(df_2['ghi'],df_2['ghi_ns'])\n",
    "print(mae1,mae2,mae3,mae4,mae5)"
   ]
  },
  {
   "cell_type": "code",
   "execution_count": 27,
   "metadata": {},
   "outputs": [
    {
     "name": "stdout",
     "output_type": "stream",
     "text": [
      "21.050370881221824 -0.9322287482639581 -7.6968738787925695 -1.836374697761484 -1.2599766008891633\n"
     ]
    }
   ],
   "source": [
    "mbe1 = np.mean(-df_2['ghi']+df_2['ghics_pvlib'])\n",
    "mbe2 = np.mean(-df_2['ghi']+df_2['ghics_tl'])\n",
    "mbe3 = np.mean(-df_2['ghi']+df_2['ghics_mc'])\n",
    "mbe4 = np.mean(-df_2['ghi']+df_2['ghics_rest'])\n",
    "mbe5 = np.mean(-df_2['ghi']+df_2['ghi_ns'])\n",
    "print(mbe1,mbe2,mbe3,mbe4,mbe5)"
   ]
  },
  {
   "cell_type": "code",
   "execution_count": 28,
   "metadata": {},
   "outputs": [
    {
     "data": {
      "text/html": [
       "<div>\n",
       "<style scoped>\n",
       "    .dataframe tbody tr th:only-of-type {\n",
       "        vertical-align: middle;\n",
       "    }\n",
       "\n",
       "    .dataframe tbody tr th {\n",
       "        vertical-align: top;\n",
       "    }\n",
       "\n",
       "    .dataframe thead th {\n",
       "        text-align: right;\n",
       "    }\n",
       "</style>\n",
       "<table border=\"1\" class=\"dataframe\">\n",
       "  <thead>\n",
       "    <tr style=\"text-align: right;\">\n",
       "      <th></th>\n",
       "      <th>lst</th>\n",
       "      <th>zen</th>\n",
       "      <th>ghi</th>\n",
       "      <th>dhi</th>\n",
       "      <th>dni_ex</th>\n",
       "      <th>ghics</th>\n",
       "      <th>dhics</th>\n",
       "      <th>exth</th>\n",
       "      <th>year</th>\n",
       "      <th>month</th>\n",
       "      <th>day</th>\n",
       "      <th>hour</th>\n",
       "      <th>minute</th>\n",
       "      <th>second</th>\n",
       "      <th>cloudy</th>\n",
       "    </tr>\n",
       "    <tr>\n",
       "      <th>utc</th>\n",
       "      <th></th>\n",
       "      <th></th>\n",
       "      <th></th>\n",
       "      <th></th>\n",
       "      <th></th>\n",
       "      <th></th>\n",
       "      <th></th>\n",
       "      <th></th>\n",
       "      <th></th>\n",
       "      <th></th>\n",
       "      <th></th>\n",
       "      <th></th>\n",
       "      <th></th>\n",
       "      <th></th>\n",
       "      <th></th>\n",
       "    </tr>\n",
       "  </thead>\n",
       "  <tbody>\n",
       "    <tr>\n",
       "      <th>2019-01-01 15:30:00</th>\n",
       "      <td>2019-01-01 07:30:00</td>\n",
       "      <td>84.97</td>\n",
       "      <td>57.4</td>\n",
       "      <td>22.2</td>\n",
       "      <td>1414.0</td>\n",
       "      <td>40.846</td>\n",
       "      <td>4.9734</td>\n",
       "      <td>123.97</td>\n",
       "      <td>2019</td>\n",
       "      <td>1</td>\n",
       "      <td>1</td>\n",
       "      <td>7</td>\n",
       "      <td>30</td>\n",
       "      <td>0</td>\n",
       "      <td>1</td>\n",
       "    </tr>\n",
       "    <tr>\n",
       "      <th>2019-01-01 15:31:00</th>\n",
       "      <td>2019-01-01 07:31:00</td>\n",
       "      <td>84.80</td>\n",
       "      <td>60.0</td>\n",
       "      <td>22.6</td>\n",
       "      <td>1414.0</td>\n",
       "      <td>43.289</td>\n",
       "      <td>5.2218</td>\n",
       "      <td>128.15</td>\n",
       "      <td>2019</td>\n",
       "      <td>1</td>\n",
       "      <td>1</td>\n",
       "      <td>7</td>\n",
       "      <td>31</td>\n",
       "      <td>0</td>\n",
       "      <td>1</td>\n",
       "    </tr>\n",
       "    <tr>\n",
       "      <th>2019-01-01 15:32:00</th>\n",
       "      <td>2019-01-01 07:32:00</td>\n",
       "      <td>84.64</td>\n",
       "      <td>62.7</td>\n",
       "      <td>23.1</td>\n",
       "      <td>1414.0</td>\n",
       "      <td>45.774</td>\n",
       "      <td>5.4722</td>\n",
       "      <td>132.08</td>\n",
       "      <td>2019</td>\n",
       "      <td>1</td>\n",
       "      <td>1</td>\n",
       "      <td>7</td>\n",
       "      <td>32</td>\n",
       "      <td>0</td>\n",
       "      <td>1</td>\n",
       "    </tr>\n",
       "    <tr>\n",
       "      <th>2019-01-01 15:33:00</th>\n",
       "      <td>2019-01-01 07:33:00</td>\n",
       "      <td>84.48</td>\n",
       "      <td>65.3</td>\n",
       "      <td>23.6</td>\n",
       "      <td>1414.0</td>\n",
       "      <td>48.299</td>\n",
       "      <td>5.7243</td>\n",
       "      <td>136.02</td>\n",
       "      <td>2019</td>\n",
       "      <td>1</td>\n",
       "      <td>1</td>\n",
       "      <td>7</td>\n",
       "      <td>33</td>\n",
       "      <td>0</td>\n",
       "      <td>1</td>\n",
       "    </tr>\n",
       "    <tr>\n",
       "      <th>2019-01-01 15:34:00</th>\n",
       "      <td>2019-01-01 07:34:00</td>\n",
       "      <td>84.32</td>\n",
       "      <td>67.7</td>\n",
       "      <td>24.1</td>\n",
       "      <td>1414.0</td>\n",
       "      <td>50.861</td>\n",
       "      <td>5.9779</td>\n",
       "      <td>139.95</td>\n",
       "      <td>2019</td>\n",
       "      <td>1</td>\n",
       "      <td>1</td>\n",
       "      <td>7</td>\n",
       "      <td>34</td>\n",
       "      <td>0</td>\n",
       "      <td>1</td>\n",
       "    </tr>\n",
       "  </tbody>\n",
       "</table>\n",
       "</div>"
      ],
      "text/plain": [
       "                                     lst    zen   ghi   dhi  dni_ex   ghics  \\\n",
       "utc                                                                           \n",
       "2019-01-01 15:30:00  2019-01-01 07:30:00  84.97  57.4  22.2  1414.0  40.846   \n",
       "2019-01-01 15:31:00  2019-01-01 07:31:00  84.80  60.0  22.6  1414.0  43.289   \n",
       "2019-01-01 15:32:00  2019-01-01 07:32:00  84.64  62.7  23.1  1414.0  45.774   \n",
       "2019-01-01 15:33:00  2019-01-01 07:33:00  84.48  65.3  23.6  1414.0  48.299   \n",
       "2019-01-01 15:34:00  2019-01-01 07:34:00  84.32  67.7  24.1  1414.0  50.861   \n",
       "\n",
       "                      dhics    exth  year  month  day  hour  minute  second  \\\n",
       "utc                                                                           \n",
       "2019-01-01 15:30:00  4.9734  123.97  2019      1    1     7      30       0   \n",
       "2019-01-01 15:31:00  5.2218  128.15  2019      1    1     7      31       0   \n",
       "2019-01-01 15:32:00  5.4722  132.08  2019      1    1     7      32       0   \n",
       "2019-01-01 15:33:00  5.7243  136.02  2019      1    1     7      33       0   \n",
       "2019-01-01 15:34:00  5.9779  139.95  2019      1    1     7      34       0   \n",
       "\n",
       "                     cloudy  \n",
       "utc                          \n",
       "2019-01-01 15:30:00       1  \n",
       "2019-01-01 15:31:00       1  \n",
       "2019-01-01 15:32:00       1  \n",
       "2019-01-01 15:33:00       1  \n",
       "2019-01-01 15:34:00       1  "
      ]
     },
     "execution_count": 28,
     "metadata": {},
     "output_type": "execute_result"
    }
   ],
   "source": [
    "df = pd.read_csv('DRA_19_cloudy_clear.csv')\n",
    "df['utc'] = pd.to_datetime(df['lst'])+datetime.timedelta(hours=8) # for dra, time difference is 8 hrs.\n",
    "df = df.set_index('utc')\n",
    "df.head()"
   ]
  },
  {
   "cell_type": "markdown",
   "metadata": {},
   "source": [
    "<br> utc: UTC time, lst: Local standard time, zen: solar zenith angle, ghi: global horizontal irradiance, dhi: diffuse horizontal irradiance, dni_ex: extraterrestrial radiation, ghics: clear sky ghi, dhics: clear sky dhi, exth: horizontal projection of dni_ex,\n",
    "cloudy: cloudy flag, 1 means cloudy.\n",
    "<br> Clear-sky detection is performed using the Bright-Sun model, please refer to https://github.com/JamieMBright/csd-library for more details."
   ]
  },
  {
   "cell_type": "code",
   "execution_count": 37,
   "metadata": {},
   "outputs": [
    {
     "data": {
      "text/plain": [
       "18690"
      ]
     },
     "execution_count": 37,
     "metadata": {},
     "output_type": "execute_result"
    }
   ],
   "source": [
    "# cloudy or clear periods in a resolution of 5-min\n",
    "# e.g., if it is detected clear at 15:03, 15:04, 15:05, 15:06, and 15:07, then it is marked as clear in these 5 mins and indexed by 15:05\n",
    "clear_index = []\n",
    "time_5min = pd.date_range(start='2019',end='2020',freq='5min')\n",
    "for time in time_5min:\n",
    "    if time in df.index:\n",
    "        dt = time - datetime.timedelta(minutes = 2)\n",
    "        dt_ = time + datetime.timedelta(minutes = 2)\n",
    "        times = pd.date_range(start=dt,end=dt_,freq='1min')\n",
    "        times_ = [t for t in times if t in df.index]\n",
    "        if len(times)== len(times_):\n",
    "            if sum(df.loc[times_,'cloudy'].values) == 0:\n",
    "                clear_index.append(time)\n",
    "len(clear_index)"
   ]
  },
  {
   "cell_type": "code",
   "execution_count": 31,
   "metadata": {},
   "outputs": [
    {
     "data": {
      "text/plain": [
       "(24553, 17887, 42440)"
      ]
     },
     "execution_count": 31,
     "metadata": {},
     "output_type": "execute_result"
    }
   ],
   "source": [
    "cloudy = [index for index in df_a.index if index not in clear_index]\n",
    "clear = [index for index in df_a.index if index in clear_index]\n",
    "len(cloudy),len(clear),len(df_a)"
   ]
  },
  {
   "cell_type": "code",
   "execution_count": 36,
   "metadata": {},
   "outputs": [
    {
     "name": "stdout",
     "output_type": "stream",
     "text": [
      "136.64686980282133 136.9311050483452 137.03324217307704 136.48668593439933 131.62024767852915\n"
     ]
    }
   ],
   "source": [
    "#cloudy conditions\n",
    "#rmse\n",
    "rmse1 = np.sqrt(metrics.mean_squared_error(df_a.loc[cloudy,'ghi'],df_a.loc[cloudy,'ghi_pvlib']))\n",
    "rmse2 = np.sqrt(metrics.mean_squared_error(df_a.loc[cloudy,'ghi'],df_a.loc[cloudy,'ghi_tl']))\n",
    "rmse3 = np.sqrt(metrics.mean_squared_error(df_a.loc[cloudy,'ghi'],df_a.loc[cloudy,'ghi_mc']))\n",
    "rmse4 = np.sqrt(metrics.mean_squared_error(df_a.loc[cloudy,'ghi'],df_a.loc[cloudy,'ghi_rest']))\n",
    "rmse5 = np.sqrt(metrics.mean_squared_error(df_a.loc[cloudy,'ghi'],df_a.loc[cloudy,'ghi_ns']))\n",
    "print(rmse1,rmse2,rmse3,rmse4,rmse5)"
   ]
  },
  {
   "cell_type": "code",
   "execution_count": 38,
   "metadata": {},
   "outputs": [
    {
     "name": "stdout",
     "output_type": "stream",
     "text": [
      "88.45667119597623 84.93750564672253 86.49704940451237 86.84955752192204 80.90820347819005\n"
     ]
    }
   ],
   "source": [
    "#cloudy conditions\n",
    "#mae\n",
    "mae1 = metrics.mean_absolute_error(df_a.loc[cloudy,'ghi'],df_a.loc[cloudy,'ghi_pvlib'])\n",
    "mae2 = metrics.mean_absolute_error(df_a.loc[cloudy,'ghi'],df_a.loc[cloudy,'ghi_tl'])\n",
    "mae3 = metrics.mean_absolute_error(df_a.loc[cloudy,'ghi'],df_a.loc[cloudy,'ghi_mc'])\n",
    "mae4 = metrics.mean_absolute_error(df_a.loc[cloudy,'ghi'],df_a.loc[cloudy,'ghi_rest'])\n",
    "mae5 = metrics.mean_absolute_error(df_a.loc[cloudy,'ghi'],df_a.loc[cloudy,'ghi_ns'])\n",
    "print(mae1,mae2,mae3,mae4,mae5)"
   ]
  },
  {
   "cell_type": "code",
   "execution_count": 39,
   "metadata": {},
   "outputs": [
    {
     "name": "stdout",
     "output_type": "stream",
     "text": [
      "-1.4510130622634245 12.062455693391795 12.197265690179101 6.702175607075697 -13.85285382641633\n"
     ]
    }
   ],
   "source": [
    "#cloudy conditions\n",
    "#mbe\n",
    "mbe1 = np.mean(-df_a.loc[cloudy,'ghi']+df_a.loc[cloudy,'ghi_pvlib'])\n",
    "mbe2 = np.mean(-df_a.loc[cloudy,'ghi']+df_a.loc[cloudy,'ghi_tl'])\n",
    "mbe3 = np.mean(-df_a.loc[cloudy,'ghi']+df_a.loc[cloudy,'ghi_mc'])\n",
    "mbe4 = np.mean(-df_a.loc[cloudy,'ghi']+df_a.loc[cloudy,'ghi_rest'])\n",
    "mbe5 = np.mean(-df_a.loc[cloudy,'ghi']+df_a.loc[cloudy,'ghi_ns'])\n",
    "print(mbe1,mbe2,mbe3,mbe4,mbe5)"
   ]
  },
  {
   "cell_type": "code",
   "execution_count": 40,
   "metadata": {},
   "outputs": [
    {
     "name": "stdout",
     "output_type": "stream",
     "text": [
      "32.85514474421775 17.79999463920044 19.918267010125547 20.505290458189815 14.765088212062619\n"
     ]
    }
   ],
   "source": [
    "#clear conditions\n",
    "#rmse\n",
    "rmse1 = np.sqrt(metrics.mean_squared_error(df_a.loc[clear,'ghi'],df_a.loc[clear,'ghi_pvlib']))\n",
    "rmse2 = np.sqrt(metrics.mean_squared_error(df_a.loc[clear,'ghi'],df_a.loc[clear,'ghi_tl']))\n",
    "rmse3 = np.sqrt(metrics.mean_squared_error(df_a.loc[clear,'ghi'],df_a.loc[clear,'ghi_mc']))\n",
    "rmse4 = np.sqrt(metrics.mean_squared_error(df_a.loc[clear,'ghi'],df_a.loc[clear,'ghi_rest']))\n",
    "rmse5 = np.sqrt(metrics.mean_squared_error(df_a.loc[clear,'ghi'],df_a.loc[clear,'ghi_ns']))\n",
    "print(rmse1,rmse2,rmse3,rmse4,rmse5)"
   ]
  },
  {
   "cell_type": "code",
   "execution_count": 41,
   "metadata": {},
   "outputs": [
    {
     "name": "stdout",
     "output_type": "stream",
     "text": [
      "27.064252745694144 10.64696649326133 12.629383988560786 13.226134149432577 10.97592441437916\n"
     ]
    }
   ],
   "source": [
    "#clear conditions\n",
    "#mae\n",
    "mae1 = metrics.mean_absolute_error(df_a.loc[clear,'ghi'],df_a.loc[clear,'ghi_pvlib'])\n",
    "mae2 = metrics.mean_absolute_error(df_a.loc[clear,'ghi'],df_a.loc[clear,'ghi_tl'])\n",
    "mae3 = metrics.mean_absolute_error(df_a.loc[clear,'ghi'],df_a.loc[clear,'ghi_mc'])\n",
    "mae4 = metrics.mean_absolute_error(df_a.loc[clear,'ghi'],df_a.loc[clear,'ghi_rest'])\n",
    "mae5 = metrics.mean_absolute_error(df_a.loc[clear,'ghi'],df_a.loc[clear,'ghi_ns'])\n",
    "print(mae1,mae2,mae3,mae4,mae5)"
   ]
  },
  {
   "cell_type": "code",
   "execution_count": 42,
   "metadata": {},
   "outputs": [
    {
     "name": "stdout",
     "output_type": "stream",
     "text": [
      "-26.31480549323643 -5.226760367561491 -0.25976095095599083 -7.0980715846335265 -0.9379616481243264\n"
     ]
    }
   ],
   "source": [
    "#clear conditions\n",
    "#mbe\n",
    "mbe1 = np.mean(-df_a.loc[clear,'ghi']+df_a.loc[clear,'ghi_pvlib'])\n",
    "mbe2 = np.mean(-df_a.loc[clear,'ghi']+df_a.loc[clear,'ghi_tl'])\n",
    "mbe3 = np.mean(-df_a.loc[clear,'ghi']+df_a.loc[clear,'ghi_mc'])\n",
    "mbe4 = np.mean(-df_a.loc[clear,'ghi']+df_a.loc[clear,'ghi_rest'])\n",
    "mbe5 = np.mean(-df_a.loc[clear,'ghi']+df_a.loc[clear,'ghi_ns'])\n",
    "print(mbe1,mbe2,mbe3,mbe4,mbe5)"
   ]
  },
  {
   "cell_type": "code",
   "execution_count": 43,
   "metadata": {},
   "outputs": [
    {
     "name": "stdout",
     "output_type": "stream",
     "text": [
      "24.919430899170603 10.258075032440127 15.722365109764525 13.313926513723747 14.765088212062619\n"
     ]
    }
   ],
   "source": [
    "#clear conditions, ghics vs ghi\n",
    "#rmse\n",
    "rmse1 = np.sqrt(metrics.mean_squared_error(df_a.loc[clear,'ghi'],df_a.loc[clear,'ghics_pvlib']))\n",
    "rmse2 = np.sqrt(metrics.mean_squared_error(df_a.loc[clear,'ghi'],df_a.loc[clear,'ghics_tl']))\n",
    "rmse3 = np.sqrt(metrics.mean_squared_error(df_a.loc[clear,'ghi'],df_a.loc[clear,'ghics_mc']))\n",
    "rmse4 = np.sqrt(metrics.mean_squared_error(df_a.loc[clear,'ghi'],df_a.loc[clear,'ghics_rest']))\n",
    "rmse5 = np.sqrt(metrics.mean_squared_error(df_a.loc[clear,'ghi'],df_a.loc[clear,'ghi_ns']))\n",
    "print(rmse1,rmse2,rmse3,rmse4,rmse5)"
   ]
  },
  {
   "cell_type": "code",
   "execution_count": 44,
   "metadata": {},
   "outputs": [
    {
     "name": "stdout",
     "output_type": "stream",
     "text": [
      "21.289825985354714 8.058498139395986 12.580418516240847 10.616268798568793 10.97592441437916\n"
     ]
    }
   ],
   "source": [
    "#clear conditions, ghics vs ghi\n",
    "#mae\n",
    "mae1 = metrics.mean_absolute_error(df_a.loc[clear,'ghi'],df_a.loc[clear,'ghics_pvlib'])\n",
    "mae2 = metrics.mean_absolute_error(df_a.loc[clear,'ghi'],df_a.loc[clear,'ghics_tl'])\n",
    "mae3 = metrics.mean_absolute_error(df_a.loc[clear,'ghi'],df_a.loc[clear,'ghics_mc'])\n",
    "mae4 = metrics.mean_absolute_error(df_a.loc[clear,'ghi'],df_a.loc[clear,'ghics_rest'])\n",
    "mae5 = metrics.mean_absolute_error(df_a.loc[clear,'ghi'],df_a.loc[clear,'ghi_ns'])\n",
    "print(mae1,mae2,mae3,mae4,mae5)"
   ]
  },
  {
   "cell_type": "code",
   "execution_count": 46,
   "metadata": {},
   "outputs": [
    {
     "name": "stdout",
     "output_type": "stream",
     "text": [
      "-19.838241669585834 1.4835867615328542 6.515654251691152 -0.3935439145748307 -0.9379616481243264\n"
     ]
    }
   ],
   "source": [
    "#clear conditions, ghics vs ghi\n",
    "#mbe\n",
    "mbe1 = np.mean(-df_a.loc[clear,'ghi']+df_a.loc[clear,'ghics_pvlib'])\n",
    "mbe2 = np.mean(-df_a.loc[clear,'ghi']+df_a.loc[clear,'ghics_tl'])\n",
    "mbe3 = np.mean(-df_a.loc[clear,'ghi']+df_a.loc[clear,'ghics_mc'])\n",
    "mbe4 = np.mean(-df_a.loc[clear,'ghi']+df_a.loc[clear,'ghics_rest'])\n",
    "mbe5 = np.mean(-df_a.loc[clear,'ghi']+df_a.loc[clear,'ghi_ns'])\n",
    "print(mbe1,mbe2,mbe3,mbe4,mbe5)"
   ]
  },
  {
   "cell_type": "code",
   "execution_count": null,
   "metadata": {},
   "outputs": [],
   "source": []
  }
 ],
 "metadata": {
  "kernelspec": {
   "display_name": "Python 3",
   "language": "python",
   "name": "python3"
  },
  "language_info": {
   "codemirror_mode": {
    "name": "ipython",
    "version": 3
   },
   "file_extension": ".py",
   "mimetype": "text/x-python",
   "name": "python",
   "nbconvert_exporter": "python",
   "pygments_lexer": "ipython3",
   "version": "3.8.5"
  }
 },
 "nbformat": 4,
 "nbformat_minor": 4
}
